{
 "cells": [
  {
   "cell_type": "markdown",
   "metadata": {},
   "source": [
    "# 훈련, 검증, 테스트 세트"
   ]
  },
  {
   "cell_type": "markdown",
   "metadata": {},
   "source": [
    "모델 평가의 핵심은 가용한 데이터를 항상 훈련, 검증, 테스트 3개의 세트로 나누는 것"
   ]
  },
  {
   "cell_type": "markdown",
   "metadata": {},
   "source": [
    "- Training set (훈련)\n",
    "\n",
    "- Validation set (검증)\n",
    "\n",
    "- Test set (테스트)"
   ]
  },
  {
   "cell_type": "markdown",
   "metadata": {},
   "source": [
    "## 모델 훈련 과정\n",
    "\n",
    "Training set으로 모델 훈련\n",
    "\n",
    "Validation set으로 모델 평가 (Hyperparameter 수정)\n",
    "\n",
    "모델 출시할 준비가 되면\n",
    "\n",
    "Test set에서 최종적으로 딱 한 번 모델을 테스트"
   ]
  },
  {
   "cell_type": "markdown",
   "metadata": {},
   "source": [
    "__\\* 주의 \\*__\n",
    "\n",
    "validation set의 성능을 기반으로 모델의 설정을 튜닝하면 validation set으로 직접 훈련하지 않아도 validation set에 overfitting 될 수 있다\n",
    "\n",
    "why? 정보 누설 (information leak)"
   ]
  },
  {
   "cell_type": "markdown",
   "metadata": {},
   "source": [
    "### 그럼 how 온전한 평가?"
   ]
  },
  {
   "cell_type": "markdown",
   "metadata": {},
   "source": [
    "\n",
    "=> Test set이용. 모델은 간접적으로라도 test set에 대한 어떤 정보도 얻어서는 안된다"
   ]
  },
  {
   "cell_type": "markdown",
   "metadata": {},
   "source": [
    "### Data가 나누어져 있지 않다면?"
   ]
  },
  {
   "cell_type": "markdown",
   "metadata": {},
   "source": [
    "=> hold-out validation, K-fold cross-validation, shuffling, iterated K-fold cross-validation"
   ]
  },
  {
   "cell_type": "markdown",
   "metadata": {},
   "source": [
    "## Hold-out validation (단순 홀드아웃 검증)"
   ]
  },
  {
   "cell_type": "markdown",
   "metadata": {},
   "source": [
    "단순한 분리  (test data는 있다고 가정) ex. 8(train):2(validation)\n",
    "\n",
    "단점 : data가 적을 때는 주어진 전체 데이터를 통계적으로 대표하지 못할 수 있다"
   ]
  },
  {
   "cell_type": "markdown",
   "metadata": {},
   "source": [
    "### 단순한 구현"
   ]
  },
  {
   "cell_type": "code",
   "execution_count": 15,
   "metadata": {},
   "outputs": [
    {
     "name": "stdout",
     "output_type": "stream",
     "text": [
      "원래 데이터 [4269 7515 7182 ... 8831  594 3672]\n",
      "검증 data [4269 7515 7182 ... 2244 2697 6147]\n",
      "훈련 data [4960 1000 2336 ... 8831  594 3672]\n",
      "\n",
      "검증,훈련 데이터의 교집합\n",
      "set()\n"
     ]
    }
   ],
   "source": [
    "import numpy as np\n",
    "\n",
    "num_samples=10000\n",
    "\n",
    "num_validation=(num_samples//10)*2\n",
    "\n",
    "data_lst=[i for i in range(num_samples)]\n",
    "\n",
    "data=np.array(data_lst)\n",
    "\n",
    "# 데이터를 섞는 것이 일반적으로 좋습니다\n",
    "np.random.shuffle(data)\n",
    "\n",
    "validation_data=data[:num_validation]\n",
    "train_data=data[num_validation:]\n",
    "\n",
    "print(\"원래 데이터\",data)\n",
    "print(\"검증 data\",validation_data)\n",
    "print(\"훈련 data\",train_data)\n",
    "\n",
    "print()\n",
    "\n",
    "print(\"검증,훈련 데이터의 교집합\")\n",
    "print((set(validation_data) & set(train_data)))"
   ]
  },
  {
   "cell_type": "markdown",
   "metadata": {},
   "source": [
    "## K-fold cross validation\n",
    "\n",
    "[사진]"
   ]
  },
  {
   "cell_type": "markdown",
   "metadata": {},
   "source": [
    "### 단순한 구현"
   ]
  },
  {
   "cell_type": "code",
   "execution_count": null,
   "metadata": {},
   "outputs": [],
   "source": [
    "from keras.models import models\n",
    "\n",
    "K=4\n",
    "\n",
    "num_validation=len(data)//k\n",
    "\n",
    "np.random.shuffle(data)\n",
    "\n",
    "validation_scores=[]\n",
    "\n",
    "for fold in range(k):\n",
    "    # 검증 데이터 선택\n",
    "    validation_data=data[num_validation*fold:num_validation*(fold+1)]\n",
    "    # 나머지가 훈련 데이터\n",
    "    training_data=data[:num_validation*fold]+data[num_validation*(fold+1):]\n",
    "    \n",
    "    \n",
    "    # 훈련되지 않은 새로운 모델을 만듭니다\n",
    "    model=get_model()\n",
    "    model.train(training_data)\n",
    "    \n",
    "    validation_score=model.evaluate(validation_data)\n",
    "    validation_scores.append(validation_score)\n",
    "    \n",
    "    validation_score=np.average(validation_scores)\n",
    "    "
   ]
  }
 ],
 "metadata": {
  "kernelspec": {
   "display_name": "Python 3",
   "language": "python",
   "name": "python3"
  },
  "language_info": {
   "codemirror_mode": {
    "name": "ipython",
    "version": 3
   },
   "file_extension": ".py",
   "mimetype": "text/x-python",
   "name": "python",
   "nbconvert_exporter": "python",
   "pygments_lexer": "ipython3",
   "version": "3.6.7"
  }
 },
 "nbformat": 4,
 "nbformat_minor": 2
}
