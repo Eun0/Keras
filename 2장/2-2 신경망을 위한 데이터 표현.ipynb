{
 "cells": [
  {
   "cell_type": "markdown",
   "metadata": {},
   "source": [
    "# 텐서"
   ]
  },
  {
   "cell_type": "markdown",
   "metadata": {},
   "source": [
    "텐서는 3가지 속성으로 정의됩니다\n",
    "\n",
    "1. rank (ndim)\n",
    "\n",
    "2. shape (tuple type) : 크기\n",
    "\n",
    "3. type (dtype)"
   ]
  },
  {
   "cell_type": "markdown",
   "metadata": {},
   "source": [
    "## 스칼라 (Scalar)"
   ]
  },
  {
   "cell_type": "markdown",
   "metadata": {},
   "source": [
    ": 숫자만 담고 있는 텐서 ( ndim=0 )"
   ]
  },
  {
   "cell_type": "code",
   "execution_count": 1,
   "metadata": {},
   "outputs": [],
   "source": [
    "import numpy as np"
   ]
  },
  {
   "cell_type": "code",
   "execution_count": 2,
   "metadata": {},
   "outputs": [
    {
     "name": "stdout",
     "output_type": "stream",
     "text": [
      "x값: 12\n",
      "x의 ndim: 0\n",
      "x의 shape: ()\n",
      "len(shape): 0\n"
     ]
    }
   ],
   "source": [
    "x=np.array(12)\n",
    "\n",
    "print(\"x값:\",x)\n",
    "print(\"x의 ndim:\",x.ndim)\n",
    "print(\"x의 shape:\",x.shape)\n",
    "print(\"len(shape):\",len(x.shape) ) # ndim과 같다"
   ]
  },
  {
   "cell_type": "markdown",
   "metadata": {},
   "source": [
    "## 벡터 (Vector)"
   ]
  },
  {
   "cell_type": "markdown",
   "metadata": {},
   "source": [
    ": 숫자의 배열을 벡터 or 1D 텐서라 한다 ( ndim=1 )"
   ]
  },
  {
   "cell_type": "code",
   "execution_count": 3,
   "metadata": {},
   "outputs": [
    {
     "name": "stdout",
     "output_type": "stream",
     "text": [
      "x값: [1 2 3]\n",
      "x의 ndim: 1\n",
      "x의 shape: (3,)\n",
      "len(shape): 1\n"
     ]
    }
   ],
   "source": [
    "x=np.array([1,2,3])\n",
    "\n",
    "print(\"x값:\",x)\n",
    "print(\"x의 ndim:\",x.ndim)\n",
    "print(\"x의 shape:\",x.shape)\n",
    "print(\"len(shape):\",len(x.shape) ) # ndim과 같다"
   ]
  },
  {
   "cell_type": "markdown",
   "metadata": {},
   "source": [
    "## 행렬 (Matrix)"
   ]
  },
  {
   "cell_type": "markdown",
   "metadata": {},
   "source": [
    ": 벡터의 배열이 행렬 도는 2D 텐서다 (ndim=2)"
   ]
  },
  {
   "cell_type": "code",
   "execution_count": 4,
   "metadata": {},
   "outputs": [
    {
     "name": "stdout",
     "output_type": "stream",
     "text": [
      "[[1 2 3]\n",
      " [4 5 6]\n",
      " [7 8 9]]\n",
      "x의 ndim: 2\n",
      "x의 shape: (3, 3)\n",
      "len(shape): 2\n"
     ]
    }
   ],
   "source": [
    "x=np.array([[1,2,3],[4,5,6],[7,8,9]])\n",
    "\n",
    "print(x)\n",
    "print(\"x의 ndim:\",x.ndim)\n",
    "print(\"x의 shape:\",x.shape)\n",
    "print(\"len(shape):\",len(x.shape) ) # ndim과 같다"
   ]
  },
  {
   "cell_type": "markdown",
   "metadata": {},
   "source": [
    "## 3D 텐서와 고차원 텐서"
   ]
  },
  {
   "cell_type": "markdown",
   "metadata": {},
   "source": [
    ": ndim이 3 이상인 텐서"
   ]
  },
  {
   "cell_type": "code",
   "execution_count": 5,
   "metadata": {},
   "outputs": [
    {
     "name": "stdout",
     "output_type": "stream",
     "text": [
      "[[[1]\n",
      "  [2]\n",
      "  [3]]\n",
      "\n",
      " [[4]\n",
      "  [5]\n",
      "  [6]]]\n",
      "\n",
      "x의 ndim: 3\n",
      "x의 shape: (2, 3, 1)\n",
      "len(shape): 3\n"
     ]
    }
   ],
   "source": [
    "x=np.array([[[1],[2],[3]],[[4],[5],[6]]])\n",
    "\n",
    "print(x)\n",
    "print()\n",
    "print(\"x의 ndim:\",x.ndim)\n",
    "print(\"x의 shape:\",x.shape) # 1개씩 3쌍인 것이 2개\n",
    "print(\"len(shape):\",len(x.shape) ) # ndim과 같다"
   ]
  },
  {
   "cell_type": "markdown",
   "metadata": {},
   "source": [
    "## MNIST 예제로 확인"
   ]
  },
  {
   "cell_type": "code",
   "execution_count": 6,
   "metadata": {},
   "outputs": [
    {
     "name": "stderr",
     "output_type": "stream",
     "text": [
      "Using TensorFlow backend.\n"
     ]
    }
   ],
   "source": [
    "from keras.datasets import mnist\n",
    "(train_images,train_labels),(test_images,test_labels)=mnist.load_data()"
   ]
  },
  {
   "cell_type": "code",
   "execution_count": 7,
   "metadata": {},
   "outputs": [
    {
     "name": "stdout",
     "output_type": "stream",
     "text": [
      "3\n"
     ]
    }
   ],
   "source": [
    "print(train_images.ndim)"
   ]
  },
  {
   "cell_type": "code",
   "execution_count": 8,
   "metadata": {},
   "outputs": [
    {
     "name": "stdout",
     "output_type": "stream",
     "text": [
      "(60000, 28, 28)\n"
     ]
    }
   ],
   "source": [
    "print(train_images.shape)"
   ]
  },
  {
   "cell_type": "code",
   "execution_count": 9,
   "metadata": {},
   "outputs": [
    {
     "name": "stdout",
     "output_type": "stream",
     "text": [
      "uint8\n"
     ]
    }
   ],
   "source": [
    "print(train_images.dtype)"
   ]
  },
  {
   "cell_type": "code",
   "execution_count": 10,
   "metadata": {},
   "outputs": [
    {
     "data": {
      "image/png": "[encoded data removed]",
      "text/plain": [
       "<Figure size 432x288 with 1 Axes>"
      ]
     },
     "metadata": {
      "needs_background": "light"
     },
     "output_type": "display_data"
    }
   ],
   "source": [
    "# matplotlib으로 data 그려보기\n",
    "\n",
    "digit=train_images[7]\n",
    "\n",
    "# jupyter notebook 안에 그리기\n",
    "%matplotlib inline \n",
    "\n",
    "import matplotlib.pyplot as plt\n",
    "\n",
    "plt.imshow(digit,cmap=plt.cm.binary)\n",
    "plt.show()"
   ]
  },
  {
   "cell_type": "markdown",
   "metadata": {},
   "source": [
    "## 슬라이싱\n",
    "\n",
    ": 배열의 특정 원소들을 선택"
   ]
  },
  {
   "cell_type": "code",
   "execution_count": 11,
   "metadata": {},
   "outputs": [
    {
     "name": "stdout",
     "output_type": "stream",
     "text": [
      "(10, 28, 28)\n"
     ]
    }
   ],
   "source": [
    "# 0~9까지 선택 (총 10개)\n",
    "my_slice=train_images[:10]\n",
    "\n",
    "print(my_slice.shape)"
   ]
  },
  {
   "cell_type": "code",
   "execution_count": 12,
   "metadata": {},
   "outputs": [
    {
     "name": "stdout",
     "output_type": "stream",
     "text": [
      "True\n"
     ]
    }
   ],
   "source": [
    "# 이전 예와 동일 3D 자세한 표현\n",
    "my_slice2=train_images[:10,:,:]\n",
    "\n",
    "# 두 개 같은 지 확인\n",
    "print((my_slice==my_slice2).all())"
   ]
  },
  {
   "cell_type": "code",
   "execution_count": 13,
   "metadata": {},
   "outputs": [
    {
     "name": "stdout",
     "output_type": "stream",
     "text": [
      "(10, 28, 28)\n"
     ]
    }
   ],
   "source": [
    "# 음수 인덱스는 뒤에서부터를 의미\n",
    "# 뒤에서 부터 10개\n",
    "\n",
    "my_slice3=train_images[-10:]\n",
    "\n",
    "print(my_slice3.shape)"
   ]
  },
  {
   "cell_type": "markdown",
   "metadata": {},
   "source": [
    "## 배치(batch) 데이터\n",
    "\n",
    ": 한 번에 전체 데이터셋을 처리하지 않고 batch로 나눠서 다룬다"
   ]
  },
  {
   "cell_type": "code",
   "execution_count": 14,
   "metadata": {},
   "outputs": [
    {
     "data": {
      "text/plain": [
       "(128, 28, 28)"
      ]
     },
     "execution_count": 14,
     "metadata": {},
     "output_type": "execute_result"
    }
   ],
   "source": [
    "n=3\n",
    "size=128\n",
    "\n",
    "# batch 크기가 size인 n번째 batch\n",
    "batch=train_images[size*n:size*(n+1)]\n",
    "\n",
    "batch.shape"
   ]
  },
  {
   "cell_type": "code",
   "execution_count": null,
   "metadata": {},
   "outputs": [],
   "source": []
  }
 ],
 "metadata": {
  "kernelspec": {
   "display_name": "Python 3",
   "language": "python",
   "name": "python3"
  },
  "language_info": {
   "codemirror_mode": {
    "name": "ipython",
    "version": 3
   },
   "file_extension": ".py",
   "mimetype": "text/x-python",
   "name": "python",
   "nbconvert_exporter": "python",
   "pygments_lexer": "ipython3",
   "version": "3.6.7"
  }
 },
 "nbformat": 4,
 "nbformat_minor": 2
}
