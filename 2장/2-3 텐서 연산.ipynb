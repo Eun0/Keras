{
 "cells": [
  {
   "cell_type": "markdown",
   "metadata": {},
   "source": [
    "# 1.원소별 연산 (element-wise operation)"
   ]
  },
  {
   "cell_type": "markdown",
   "metadata": {},
   "source": [
    ": 텐서에 있는 각 원소에 독립적으로 적용"
   ]
  },
  {
   "cell_type": "code",
   "execution_count": 1,
   "metadata": {},
   "outputs": [],
   "source": [
    "import numpy as np"
   ]
  },
  {
   "cell_type": "markdown",
   "metadata": {},
   "source": [
    "## Relu 간단한 구현"
   ]
  },
  {
   "cell_type": "code",
   "execution_count": 2,
   "metadata": {},
   "outputs": [],
   "source": [
    "def naive_relu(x):\n",
    "    assert x.ndim==2 # x는 2D numpy 배열\n",
    "    \n",
    "    x=x.copy()       # 입력 텐서 자체를 바꾸지 않도록 복사 \n",
    "    \n",
    "    for i in range(x.shape[0]):\n",
    "        for j in range(x.shape[1]):\n",
    "            x[i,j]=max(x[i,j],0)\n",
    "            \n",
    "    return x"
   ]
  },
  {
   "cell_type": "code",
   "execution_count": 3,
   "metadata": {},
   "outputs": [
    {
     "data": {
      "text/plain": [
       "array([[0, 0, 1],\n",
       "       [1, 2, 0]])"
      ]
     },
     "execution_count": 3,
     "metadata": {},
     "output_type": "execute_result"
    }
   ],
   "source": [
    "a=np.array([[-1,0,1],[1,2,-3]])\n",
    "naive_relu(a)"
   ]
  },
  {
   "cell_type": "markdown",
   "metadata": {},
   "source": [
    "## 덧셈 간단한 구현 "
   ]
  },
  {
   "cell_type": "code",
   "execution_count": 4,
   "metadata": {},
   "outputs": [],
   "source": [
    "def naive_add(x,y):\n",
    "    assert len(x.shape)==2     # x는 2D numpy 배열\n",
    "    assert x.shape==y.shape    # x와 y의 shape 같아야함\n",
    "    \n",
    "    x=x.copy()                 # 입력 텐서 자체를 바꾸지 않도록 복사 \n",
    "    \n",
    "    for i in range(x.shape[0]):\n",
    "        for j in range(x.shape[1]):\n",
    "            x[i,j]+=y[i,j]\n",
    "    return x"
   ]
  },
  {
   "cell_type": "code",
   "execution_count": 5,
   "metadata": {},
   "outputs": [
    {
     "data": {
      "text/plain": [
       "array([[ 1,  1, -1],\n",
       "       [ 4,  3, -6]])"
      ]
     },
     "execution_count": 5,
     "metadata": {},
     "output_type": "execute_result"
    }
   ],
   "source": [
    "a=np.array([[-1,0,1],[1,2,-3]])\n",
    "b=np.array([[2,1,-2],[3,1,-3]])\n",
    "\n",
    "naive_add(a,b)"
   ]
  },
  {
   "cell_type": "markdown",
   "metadata": {},
   "source": [
    "위에서 copy를 빼면 어떻게 될까?"
   ]
  },
  {
   "cell_type": "code",
   "execution_count": 6,
   "metadata": {},
   "outputs": [
    {
     "name": "stdout",
     "output_type": "stream",
     "text": [
      "a: [1 2 3]\n",
      "add_one: [2 3 4]\n",
      "a: [1 2 3]\n",
      "\n",
      "a: [1 2 3]\n",
      "add_one2: [2 3 4]\n",
      "a: [2 3 4]\n"
     ]
    }
   ],
   "source": [
    "a=np.array([1,2,3])\n",
    "\n",
    "# copy 해줌\n",
    "def add_one(x):\n",
    "    \n",
    "    x=x.copy()\n",
    "    \n",
    "    x+=1\n",
    "    \n",
    "    return x\n",
    "# copy 안해줌\n",
    "def add_one2(x):\n",
    "    \n",
    "    x+=1\n",
    "    \n",
    "    return x\n",
    "\n",
    "print(\"a:\",a)\n",
    "print(\"add_one:\",add_one(a))\n",
    "print(\"a:\",a)\n",
    "\n",
    "print()\n",
    "\n",
    "print(\"a:\",a)\n",
    "print(\"add_one2:\",add_one2(a)) # copy 안해주면 원래 값 달라짐\n",
    "print(\"a:\",a)"
   ]
  },
  {
   "cell_type": "code",
   "execution_count": 7,
   "metadata": {},
   "outputs": [
    {
     "name": "stdout",
     "output_type": "stream",
     "text": [
      "a: [1 2 3]\n",
      "x: [2 2 3]\n"
     ]
    }
   ],
   "source": [
    "a=np.array([1,2,3])\n",
    "x=a.copy()               # numpy의 copy는 deepcopy인가봄\n",
    "x[0]+=1\n",
    "print(\"a:\",a)\n",
    "print(\"x:\",x)"
   ]
  },
  {
   "cell_type": "markdown",
   "metadata": {},
   "source": [
    "## Relu와 덧셈 numpy 내장 함수 이용하기 (엄청 빠름)"
   ]
  },
  {
   "cell_type": "code",
   "execution_count": 8,
   "metadata": {},
   "outputs": [
    {
     "name": "stdout",
     "output_type": "stream",
     "text": [
      "덧셈: [ 0 -1  4]\n",
      "relu: [0. 0. 4.]\n"
     ]
    }
   ],
   "source": [
    "x=np.array([1,0,1])\n",
    "y=np.array([-1,-1,3])\n",
    "\n",
    "\n",
    "z=x+y\n",
    "print(\"덧셈:\",z)\n",
    "\n",
    "z=np.maximum(z,0.)\n",
    "print(\"relu:\",z)"
   ]
  },
  {
   "cell_type": "markdown",
   "metadata": {},
   "source": [
    "## 원소별 곱셈"
   ]
  },
  {
   "cell_type": "markdown",
   "metadata": {},
   "source": [
    "\\* 연산자 이용한다"
   ]
  },
  {
   "cell_type": "code",
   "execution_count": 9,
   "metadata": {},
   "outputs": [
    {
     "data": {
      "text/plain": [
       "array([[ 1,  0,  3],\n",
       "       [-2,  4,  9]])"
      ]
     },
     "execution_count": 9,
     "metadata": {},
     "output_type": "execute_result"
    }
   ],
   "source": [
    "a=np.array([[-1,0,1],[1,2,-3]])\n",
    "b=np.array([[-1,3,3],[-2,2,-3]])\n",
    "\n",
    "a*b"
   ]
  },
  {
   "cell_type": "markdown",
   "metadata": {},
   "source": [
    "# 2.브로드캐스팅 (broadcasting)"
   ]
  },
  {
   "cell_type": "markdown",
   "metadata": {},
   "source": [
    ": 모호하지 않고 실행가능하다면 작은 텐서가 큰 텐서의 크기에 맞추어 __'브로드캐스팅'__ 된다"
   ]
  },
  {
   "cell_type": "markdown",
   "metadata": {},
   "source": [
    "브로드캐스팅의 2가지 단계\n",
    "\n",
    "1. 큰 텐서의 ndim에 맞도록 작은 텐서에 축 추가\n",
    "\n",
    "2. 작은 텐서가 새 축을 따라서 큰 텐서의 크기에 맞도록 반복\n",
    "\n",
    "작은 텐서를 큰 텐서와 같은 크기로 만들어주는 것이 아니라,       (메모리 낭비)\n",
    "\n",
    "반복작업을 한다!"
   ]
  },
  {
   "cell_type": "markdown",
   "metadata": {},
   "source": [
    "## 브로드캐스팅 단순한 구현"
   ]
  },
  {
   "cell_type": "code",
   "execution_count": 10,
   "metadata": {},
   "outputs": [],
   "source": [
    "def naive_add_matrix_and_vector(x,y):\n",
    "    assert len(x.shape)==2                 # x는 2D numpy 배열\n",
    "    assert len(y.shape)==1                 # y는 numpy 벡터\n",
    "    assert x.shape[1]==y.shape[0]          # x의 col 개수와 y의 길이 같아야함\n",
    "    \n",
    "    x=x.copy()\n",
    "    \n",
    "    for i in range(x.shape[0]):\n",
    "        for j in range(x.shape[1]):\n",
    "            x[i,j]+=y[j]\n",
    "            \n",
    "    return x"
   ]
  },
  {
   "cell_type": "code",
   "execution_count": 11,
   "metadata": {},
   "outputs": [
    {
     "data": {
      "text/plain": [
       "array([[1, 2, 4],\n",
       "       [3, 4, 0]])"
      ]
     },
     "execution_count": 11,
     "metadata": {},
     "output_type": "execute_result"
    }
   ],
   "source": [
    "a=np.array([[-1,0,1],[1,2,-3]])\n",
    "b=np.array([2,2,3])\n",
    "\n",
    "naive_add_matrix_and_vector(a,b)"
   ]
  },
  {
   "cell_type": "markdown",
   "metadata": {},
   "source": [
    "# 3.텐서 곱셈 (내적)"
   ]
  },
  {
   "cell_type": "markdown",
   "metadata": {},
   "source": [
    ": not 원소별 곱셈 but 내적 (dot product)"
   ]
  },
  {
   "cell_type": "markdown",
   "metadata": {},
   "source": [
    "\\* 벡터의 dot product 결과는 scalar"
   ]
  },
  {
   "cell_type": "markdown",
   "metadata": {},
   "source": [
    "## numpy 내장 함수 dot 사용\n"
   ]
  },
  {
   "cell_type": "markdown",
   "metadata": {},
   "source": [
    "``` numpy.dot(arr1,arr2) ```\n",
    "\n",
    "arr1과 arr2를 내적한 numpy 벡터를 리턴"
   ]
  },
  {
   "cell_type": "code",
   "execution_count": 12,
   "metadata": {},
   "outputs": [
    {
     "data": {
      "text/plain": [
       "4"
      ]
     },
     "execution_count": 12,
     "metadata": {},
     "output_type": "execute_result"
    }
   ],
   "source": [
    "a=np.array([-1,0,1])\n",
    "b=np.array([-1,3,3])\n",
    "\n",
    "np.dot(a,b)"
   ]
  },
  {
   "cell_type": "markdown",
   "metadata": {},
   "source": [
    "## 벡터의 내적 간단한 구현"
   ]
  },
  {
   "cell_type": "code",
   "execution_count": 13,
   "metadata": {},
   "outputs": [],
   "source": [
    "def naive_vector_dot(x,y):\n",
    "    assert len(x.shape)==1          # x는 numpy 벡터\n",
    "    assert len(y.shape)==1          # y는 numpy 벡터\n",
    "    assert x.shape[0]==y.shape[0]   # x,y벡터의 차원 같다\n",
    "    \n",
    "    z=0.\n",
    "    for i in range(x.shape[0]):\n",
    "        z+=x[i]*y[i]\n",
    "        \n",
    "    return z"
   ]
  },
  {
   "cell_type": "code",
   "execution_count": 14,
   "metadata": {},
   "outputs": [
    {
     "data": {
      "text/plain": [
       "4.0"
      ]
     },
     "execution_count": 14,
     "metadata": {},
     "output_type": "execute_result"
    }
   ],
   "source": [
    "naive_vector_dot(a,b)"
   ]
  },
  {
   "cell_type": "markdown",
   "metadata": {},
   "source": [
    "## 행렬과 벡터 사이의 곱셈 간단한 구현\n",
    "\n",
    "$A$: mxn 배열\n",
    "\n",
    "$x$: nx1 벡터\n",
    "\n",
    "$ \\Rightarrow A \\cdot x $ : mx1 벡터"
   ]
  },
  {
   "cell_type": "code",
   "execution_count": 15,
   "metadata": {},
   "outputs": [],
   "source": [
    "def naive_matrix_vector_dot(x,y):\n",
    "    assert len(x.shape)==2               # x는 2D numpy 배열\n",
    "    assert len(y.shape)==1               # y는 numpy 벡터\n",
    "    assert x.shape[1]==y.shape[0]        # x의 col 개수와 y의 차원이 같아야함\n",
    "    \n",
    "    # 결과인 z는 차원이 x의 row 개수인 벡터\n",
    "    z=np.zeros(x.shape[0])\n",
    "    \n",
    "    for i in range(x.shape[0]):\n",
    "        for j in range(x.shape[1]):\n",
    "            z[i]+=x[i,j]*y[j]\n",
    "            \n",
    "    return z"
   ]
  },
  {
   "cell_type": "markdown",
   "metadata": {},
   "source": [
    "이전 구현한 함수 이용하기"
   ]
  },
  {
   "cell_type": "code",
   "execution_count": 16,
   "metadata": {},
   "outputs": [],
   "source": [
    "def naive_matrix_vector_dot2(x,y):\n",
    "    \n",
    "    z=np.zeros(x.shape[0])\n",
    "    \n",
    "    for i in range(x.shape[0]):\n",
    "        z[i]=naive_vector_dot(x[i,:],y)\n",
    "    \n",
    "    return z"
   ]
  },
  {
   "cell_type": "code",
   "execution_count": 17,
   "metadata": {},
   "outputs": [
    {
     "name": "stdout",
     "output_type": "stream",
     "text": [
      "첫 번쨰 방법 : [ 1. -3.]\n",
      "두 번쨰 방법 : [ 1. -3.]\n"
     ]
    }
   ],
   "source": [
    "a=np.array([[-1,0,1],[1,2,-3]])\n",
    "b=np.array([2,2,3])\n",
    "\n",
    "print(\"첫 번쨰 방법 :\",naive_matrix_vector_dot(a,b))\n",
    "print(\"두 번쨰 방법 :\",naive_matrix_vector_dot2(a,b))"
   ]
  },
  {
   "cell_type": "markdown",
   "metadata": {},
   "source": [
    "## 행렬의 곱셈 간단한 구현"
   ]
  },
  {
   "cell_type": "code",
   "execution_count": 18,
   "metadata": {},
   "outputs": [],
   "source": [
    "def naive_matrix_dot(x,y):\n",
    "    assert len(x.shape)==2\n",
    "    assert len(y.shape)==2\n",
    "    assert x.shape[1]==y.shape[0]\n",
    "    \n",
    "    z=np.zeros((x.shape[0],y.shape[1]))\n",
    "    \n",
    "    for i in range(x.shape[0]):\n",
    "        for j in range(y.shape[1]):        \n",
    "            row_x=x[i,:]\n",
    "            col_y=y[:,j]\n",
    "            z[i,j]=naive_vector_dot(row_x,col_y)\n",
    "    \n",
    "    return z"
   ]
  },
  {
   "cell_type": "code",
   "execution_count": 19,
   "metadata": {},
   "outputs": [
    {
     "data": {
      "text/plain": [
       "array([[ 2.,  2.,  2.],\n",
       "       [-4., -4., -4.]])"
      ]
     },
     "execution_count": 19,
     "metadata": {},
     "output_type": "execute_result"
    }
   ],
   "source": [
    "a=np.array([[-1,0,1],[1,2,-3]])\n",
    "b=np.array([[1,1,1],[2,2,2],[3,3,3]])\n",
    "\n",
    "naive_matrix_dot(a,b)"
   ]
  },
  {
   "cell_type": "markdown",
   "metadata": {},
   "source": [
    "# 4.텐서 크기 변환 (tensor reshaping)"
   ]
  },
  {
   "cell_type": "markdown",
   "metadata": {},
   "source": [
    ": 특정 크기에 맞게 열과 행을 재배열"
   ]
  },
  {
   "cell_type": "markdown",
   "metadata": {},
   "source": [
    "``` arr.reshape((m,n)) ```\n",
    "\n",
    "arr의 shape가 (m,n)이 되도록 재배열"
   ]
  },
  {
   "cell_type": "code",
   "execution_count": 20,
   "metadata": {},
   "outputs": [
    {
     "data": {
      "text/plain": [
       "(3, 2)"
      ]
     },
     "execution_count": 20,
     "metadata": {},
     "output_type": "execute_result"
    }
   ],
   "source": [
    "x=np.array([[0,1],[2,3],[4,5]])\n",
    "x.shape"
   ]
  },
  {
   "cell_type": "code",
   "execution_count": 21,
   "metadata": {},
   "outputs": [
    {
     "name": "stdout",
     "output_type": "stream",
     "text": [
      "[[0]\n",
      " [1]\n",
      " [2]\n",
      " [3]\n",
      " [4]\n",
      " [5]]\n",
      "x의 shape: (6, 1)\n"
     ]
    }
   ],
   "source": [
    "x=x.reshape((6,1))\n",
    "print(x)\n",
    "print(\"x의 shape:\",x.shape)"
   ]
  },
  {
   "cell_type": "code",
   "execution_count": 22,
   "metadata": {},
   "outputs": [
    {
     "name": "stdout",
     "output_type": "stream",
     "text": [
      "[[0 1 2]\n",
      " [3 4 5]]\n",
      "x의 shape: (2, 3)\n"
     ]
    }
   ],
   "source": [
    "x=x.reshape((2,3))\n",
    "print(x)\n",
    "print(\"x의 shape:\",x.shape)"
   ]
  },
  {
   "cell_type": "markdown",
   "metadata": {},
   "source": [
    "## 전치 (transposition)"
   ]
  },
  {
   "cell_type": "markdown",
   "metadata": {},
   "source": [
    ": 행과 열을 바꾸는 것"
   ]
  },
  {
   "cell_type": "markdown",
   "metadata": {},
   "source": [
    "``` numpy.transpose(arr)```\n",
    "\n",
    "arr를 전치시킨 numpy 배열을 리턴"
   ]
  },
  {
   "cell_type": "code",
   "execution_count": 23,
   "metadata": {},
   "outputs": [
    {
     "name": "stdout",
     "output_type": "stream",
     "text": [
      "[[0 1 2]\n",
      " [3 4 5]]\n",
      "x의 shape: (2, 3)\n"
     ]
    }
   ],
   "source": [
    "print(x)\n",
    "print(\"x의 shape:\",x.shape)"
   ]
  },
  {
   "cell_type": "code",
   "execution_count": 24,
   "metadata": {},
   "outputs": [
    {
     "name": "stdout",
     "output_type": "stream",
     "text": [
      "[[0 3]\n",
      " [1 4]\n",
      " [2 5]]\n",
      "x의 shape: (3, 2)\n"
     ]
    }
   ],
   "source": [
    "x=np.transpose(x)\n",
    "print(x)\n",
    "print(\"x의 shape:\",x.shape)"
   ]
  }
 ],
 "metadata": {
  "kernelspec": {
   "display_name": "Python 3",
   "language": "python",
   "name": "python3"
  },
  "language_info": {
   "codemirror_mode": {
    "name": "ipython",
    "version": 3
   },
   "file_extension": ".py",
   "mimetype": "text/x-python",
   "name": "python",
   "nbconvert_exporter": "python",
   "pygments_lexer": "ipython3",
   "version": "3.6.7"
  }
 },
 "nbformat": 4,
 "nbformat_minor": 2
}
