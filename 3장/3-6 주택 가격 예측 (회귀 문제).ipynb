{
  "nbformat": 4,
  "nbformat_minor": 0,
  "metadata": {
    "colab": {
      "name": "3-6 주택 가격 예측 (회귀 문제).ipynb",
      "version": "0.3.2",
      "provenance": []
    },
    "kernelspec": {
      "name": "python3",
      "display_name": "Python 3"
    },
    "accelerator": "GPU"
  },
  "cells": [
    {
      "metadata": {
        "id": "FKxQPhjHxCqC",
        "colab_type": "text"
      },
      "cell_type": "markdown",
      "source": [
        "# 데이터 로드하기"
      ]
    },
    {
      "metadata": {
        "id": "GTE7bF2axCqM",
        "colab_type": "text"
      },
      "cell_type": "markdown",
      "source": [
        "보스턴 주택 가격 데이터셋을 사용\n",
        "\n",
        "train data : 404개\n",
        "\n",
        "test data : 102개\n",
        "\n",
        "feature : 13 개\n",
        "\n",
        "\\* feature마다 scale이 다름 \\*"
      ]
    },
    {
      "metadata": {
        "id": "4ESYJD_MxCqQ",
        "colab_type": "code",
        "colab": {
          "base_uri": "https://localhost:8080/",
          "height": 71
        },
        "outputId": "d49b4854-a559-4901-99d1-951cbdf844ff"
      },
      "cell_type": "code",
      "source": [
        "from keras.datasets import boston_housing\n",
        "\n",
        "(train_data,train_targets),(test_data,test_targets)=boston_housing.load_data()"
      ],
      "execution_count": 1,
      "outputs": [
        {
          "output_type": "stream",
          "text": [
            "Using TensorFlow backend.\n"
          ],
          "name": "stderr"
        },
        {
          "output_type": "stream",
          "text": [
            "Downloading data from https://s3.amazonaws.com/keras-datasets/boston_housing.npz\n",
            "57344/57026 [==============================] - 0s 3us/step\n"
          ],
          "name": "stdout"
        }
      ]
    },
    {
      "metadata": {
        "id": "G14vYdvExCqf",
        "colab_type": "code",
        "colab": {
          "base_uri": "https://localhost:8080/",
          "height": 53
        },
        "outputId": "ed555fbc-3967-4be9-cdf8-22b333f28a6b"
      },
      "cell_type": "code",
      "source": [
        "print(\"train data shape:\",train_data.shape)\n",
        "print(\"train targets shape\",train_targets.shape)"
      ],
      "execution_count": 2,
      "outputs": [
        {
          "output_type": "stream",
          "text": [
            "train data shape: (404, 13)\n",
            "train targets shape (404,)\n"
          ],
          "name": "stdout"
        }
      ]
    },
    {
      "metadata": {
        "id": "fXw-nUZ9xCqq",
        "colab_type": "code",
        "colab": {
          "base_uri": "https://localhost:8080/",
          "height": 71
        },
        "outputId": "109e78ed-d252-481e-a088-08c28c7343db"
      },
      "cell_type": "code",
      "source": [
        "train_data[0]"
      ],
      "execution_count": 3,
      "outputs": [
        {
          "output_type": "execute_result",
          "data": {
            "text/plain": [
              "array([  1.23247,   0.     ,   8.14   ,   0.     ,   0.538  ,   6.142  ,\n",
              "        91.7    ,   3.9769 ,   4.     , 307.     ,  21.     , 396.9    ,\n",
              "        18.72   ])"
            ]
          },
          "metadata": {
            "tags": []
          },
          "execution_count": 3
        }
      ]
    },
    {
      "metadata": {
        "id": "tU-u4oU1xCqz",
        "colab_type": "code",
        "colab": {
          "base_uri": "https://localhost:8080/",
          "height": 683
        },
        "outputId": "9137395c-7788-437f-ef99-4fdb8c4cfca0"
      },
      "cell_type": "code",
      "source": [
        "train_targets"
      ],
      "execution_count": 4,
      "outputs": [
        {
          "output_type": "execute_result",
          "data": {
            "text/plain": [
              "array([15.2, 42.3, 50. , 21.1, 17.7, 18.5, 11.3, 15.6, 15.6, 14.4, 12.1,\n",
              "       17.9, 23.1, 19.9, 15.7,  8.8, 50. , 22.5, 24.1, 27.5, 10.9, 30.8,\n",
              "       32.9, 24. , 18.5, 13.3, 22.9, 34.7, 16.6, 17.5, 22.3, 16.1, 14.9,\n",
              "       23.1, 34.9, 25. , 13.9, 13.1, 20.4, 20. , 15.2, 24.7, 22.2, 16.7,\n",
              "       12.7, 15.6, 18.4, 21. , 30.1, 15.1, 18.7,  9.6, 31.5, 24.8, 19.1,\n",
              "       22. , 14.5, 11. , 32. , 29.4, 20.3, 24.4, 14.6, 19.5, 14.1, 14.3,\n",
              "       15.6, 10.5,  6.3, 19.3, 19.3, 13.4, 36.4, 17.8, 13.5, 16.5,  8.3,\n",
              "       14.3, 16. , 13.4, 28.6, 43.5, 20.2, 22. , 23. , 20.7, 12.5, 48.5,\n",
              "       14.6, 13.4, 23.7, 50. , 21.7, 39.8, 38.7, 22.2, 34.9, 22.5, 31.1,\n",
              "       28.7, 46. , 41.7, 21. , 26.6, 15. , 24.4, 13.3, 21.2, 11.7, 21.7,\n",
              "       19.4, 50. , 22.8, 19.7, 24.7, 36.2, 14.2, 18.9, 18.3, 20.6, 24.6,\n",
              "       18.2,  8.7, 44. , 10.4, 13.2, 21.2, 37. , 30.7, 22.9, 20. , 19.3,\n",
              "       31.7, 32. , 23.1, 18.8, 10.9, 50. , 19.6,  5. , 14.4, 19.8, 13.8,\n",
              "       19.6, 23.9, 24.5, 25. , 19.9, 17.2, 24.6, 13.5, 26.6, 21.4, 11.9,\n",
              "       22.6, 19.6,  8.5, 23.7, 23.1, 22.4, 20.5, 23.6, 18.4, 35.2, 23.1,\n",
              "       27.9, 20.6, 23.7, 28. , 13.6, 27.1, 23.6, 20.6, 18.2, 21.7, 17.1,\n",
              "        8.4, 25.3, 13.8, 22.2, 18.4, 20.7, 31.6, 30.5, 20.3,  8.8, 19.2,\n",
              "       19.4, 23.1, 23. , 14.8, 48.8, 22.6, 33.4, 21.1, 13.6, 32.2, 13.1,\n",
              "       23.4, 18.9, 23.9, 11.8, 23.3, 22.8, 19.6, 16.7, 13.4, 22.2, 20.4,\n",
              "       21.8, 26.4, 14.9, 24.1, 23.8, 12.3, 29.1, 21. , 19.5, 23.3, 23.8,\n",
              "       17.8, 11.5, 21.7, 19.9, 25. , 33.4, 28.5, 21.4, 24.3, 27.5, 33.1,\n",
              "       16.2, 23.3, 48.3, 22.9, 22.8, 13.1, 12.7, 22.6, 15. , 15.3, 10.5,\n",
              "       24. , 18.5, 21.7, 19.5, 33.2, 23.2,  5. , 19.1, 12.7, 22.3, 10.2,\n",
              "       13.9, 16.3, 17. , 20.1, 29.9, 17.2, 37.3, 45.4, 17.8, 23.2, 29. ,\n",
              "       22. , 18. , 17.4, 34.6, 20.1, 25. , 15.6, 24.8, 28.2, 21.2, 21.4,\n",
              "       23.8, 31. , 26.2, 17.4, 37.9, 17.5, 20. ,  8.3, 23.9,  8.4, 13.8,\n",
              "        7.2, 11.7, 17.1, 21.6, 50. , 16.1, 20.4, 20.6, 21.4, 20.6, 36.5,\n",
              "        8.5, 24.8, 10.8, 21.9, 17.3, 18.9, 36.2, 14.9, 18.2, 33.3, 21.8,\n",
              "       19.7, 31.6, 24.8, 19.4, 22.8,  7.5, 44.8, 16.8, 18.7, 50. , 50. ,\n",
              "       19.5, 20.1, 50. , 17.2, 20.8, 19.3, 41.3, 20.4, 20.5, 13.8, 16.5,\n",
              "       23.9, 20.6, 31.5, 23.3, 16.8, 14. , 33.8, 36.1, 12.8, 18.3, 18.7,\n",
              "       19.1, 29. , 30.1, 50. , 50. , 22. , 11.9, 37.6, 50. , 22.7, 20.8,\n",
              "       23.5, 27.9, 50. , 19.3, 23.9, 22.6, 15.2, 21.7, 19.2, 43.8, 20.3,\n",
              "       33.2, 19.9, 22.5, 32.7, 22. , 17.1, 19. , 15. , 16.1, 25.1, 23.7,\n",
              "       28.7, 37.2, 22.6, 16.4, 25. , 29.8, 22.1, 17.4, 18.1, 30.3, 17.5,\n",
              "       24.7, 12.6, 26.5, 28.7, 13.3, 10.4, 24.4, 23. , 20. , 17.8,  7. ,\n",
              "       11.8, 24.4, 13.8, 19.4, 25.2, 19.4, 19.4, 29.1])"
            ]
          },
          "metadata": {
            "tags": []
          },
          "execution_count": 4
        }
      ]
    },
    {
      "metadata": {
        "id": "ELW24a37xCq-",
        "colab_type": "text"
      },
      "cell_type": "markdown",
      "source": [
        "# 데이터 전처리하기"
      ]
    },
    {
      "metadata": {
        "id": "vhjUFvnuxCrB",
        "colab_type": "text"
      },
      "cell_type": "markdown",
      "source": [
        "## Scale 맞추기\n",
        "feature별로 scale 다름 => __feature별로 정규화(normalization)__\n",
        "\n",
        "- 정규화 공식 : (val-평균)/표준편차"
      ]
    },
    {
      "metadata": {
        "id": "O6XAiEjOxCrE",
        "colab_type": "code",
        "colab": {
          "base_uri": "https://localhost:8080/",
          "height": 53
        },
        "outputId": "22b14f79-73dc-4c89-ba8b-f62df6252b98"
      },
      "cell_type": "code",
      "source": [
        "# 행 기준\n",
        "mean=train_data.mean(axis=0)\n",
        "std=train_data.std(axis=0)\n",
        "\n",
        "print(\"feature별 평균 벡터 길이:\",len(mean))\n",
        "print(\"feature별 표준편차 벡터 길이:\",len(std))\n",
        "\n",
        "# 한번에 하는 것보다 이게 빠른가?\n",
        "train_data-=mean\n",
        "train_data/=std"
      ],
      "execution_count": 5,
      "outputs": [
        {
          "output_type": "stream",
          "text": [
            "feature별 평균 벡터 길이: 13\n",
            "feature별 표준편차 벡터 길이: 13\n"
          ],
          "name": "stdout"
        }
      ]
    },
    {
      "metadata": {
        "id": "du6XeGJDxCrP",
        "colab_type": "text"
      },
      "cell_type": "markdown",
      "source": [
        "## test data scale 맞추기\n",
        "\n",
        "train data의 평균과 표준 편차를 이용해야한다\n",
        "\n",
        "절대 test data의 정보를 이용하면 안된다!"
      ]
    },
    {
      "metadata": {
        "id": "Q5_L0x1fxCrT",
        "colab_type": "code",
        "colab": {}
      },
      "cell_type": "code",
      "source": [
        "test_data-=mean\n",
        "test_data/=std"
      ],
      "execution_count": 0,
      "outputs": []
    },
    {
      "metadata": {
        "id": "Q4Cy2p1pxCre",
        "colab_type": "text"
      },
      "cell_type": "markdown",
      "source": [
        "# 모델 구성"
      ]
    },
    {
      "metadata": {
        "id": "a-QrgeysxCri",
        "colab_type": "text"
      },
      "cell_type": "markdown",
      "source": [
        "## 함수 build_model() 정의 :\n",
        "\n",
        "동일한 모델을 여러번 생성할 것이므로 함수로 정의한다"
      ]
    },
    {
      "metadata": {
        "id": "iHkZ0yeTxCrm",
        "colab_type": "code",
        "colab": {}
      },
      "cell_type": "code",
      "source": [
        "from keras import models\n",
        "from keras import layers\n",
        "\n",
        "def build_model():\n",
        "    \n",
        "    model=models.Sequential()\n",
        "    \n",
        "    model.add(layers.Dense(64,activation='relu',input_shape=(train_data.shape[1],)))\n",
        "    model.add(layers.Dense(64,activation='relu'))\n",
        "    model.add(layers.Dense(1))\n",
        "    \n",
        "    model.compile(optimizer='rmsprop',loss='mse',metrics=['mae'])\n",
        "    \n",
        "    return model"
      ],
      "execution_count": 0,
      "outputs": []
    },
    {
      "metadata": {
        "id": "GpFfI7BXxCrz",
        "colab_type": "text"
      },
      "cell_type": "markdown",
      "source": [
        "# 훈련,검증 하기"
      ]
    },
    {
      "metadata": {
        "id": "uPpiSgJDxCr4",
        "colab_type": "text"
      },
      "cell_type": "markdown",
      "source": [
        "## k-fold cross-validation "
      ]
    },
    {
      "metadata": {
        "id": "s2E5CbgqxCr9",
        "colab_type": "text"
      },
      "cell_type": "markdown",
      "source": [
        "train data 많지 않으므로 k-fold cross-validation 이용\n",
        "\n",
        "데이터를 k개로 분할하고\n",
        "\n",
        "k개의 모델을 각각 만들어 k-1개의 분할에서 훈련하고 나머지 분할에서 평가하는 방법\n",
        "\n",
        "모델의 검증 점수는 k개의 검증 점수의 평균이다"
      ]
    },
    {
      "metadata": {
        "id": "6BPzBbm9xCsB",
        "colab_type": "code",
        "colab": {
          "base_uri": "https://localhost:8080/",
          "height": 197
        },
        "outputId": "535a0bfd-4a54-4a95-86c5-2ce75f3c2711"
      },
      "cell_type": "code",
      "source": [
        "import numpy as np\n",
        "\n",
        "# 보통 4,5\n",
        "k=4\n",
        "num_val_samples=len(train_data)//k\n",
        "num_epochs=100\n",
        "all_scores=[]\n",
        "\n",
        "for i in range(k):\n",
        "    \n",
        "    print(\"처리중인 폴드 #\",i,end=' ')\n",
        "    \n",
        "    # validation data\n",
        "    val_data=train_data[i*num_val_samples:(i+1)*num_val_samples]\n",
        "    val_targets=train_targets[i*num_val_samples:(i+1)*num_val_samples]\n",
        "    \n",
        "    # train data\n",
        "    partial_train_data=np.concatenate([train_data[:i*num_val_samples],train_data[(i+1)*num_val_samples:]],axis=0)\n",
        "    partial_train_targets=np.concatenate([train_targets[:i*num_val_samples],train_targets[(i+1)*num_val_samples:]],axis=0)\n",
        "    \n",
        "    print(\"학습 시작....\",end=' ')\n",
        "    # 모델 학습\n",
        "    model=build_model()\n",
        "    # verbose=0 이면 훈련과정 출력되지 않는다\n",
        "    model.fit(partial_train_data,partial_train_targets,epochs=num_epochs,batch_size=1,verbose=0)\n",
        "    print(\"학습 끝!\")\n",
        "    \n",
        "    # 모델 평가\n",
        "    val_mse,val_mae=model.evaluate(val_data,val_targets,verbose=0)\n",
        "    all_scores.append(val_mae)\n",
        "    "
      ],
      "execution_count": 8,
      "outputs": [
        {
          "output_type": "stream",
          "text": [
            "처리중인 폴드 # 0 학습 시작.... WARNING:tensorflow:From /usr/local/lib/python3.6/dist-packages/tensorflow/python/framework/op_def_library.py:263: colocate_with (from tensorflow.python.framework.ops) is deprecated and will be removed in a future version.\n",
            "Instructions for updating:\n",
            "Colocations handled automatically by placer.\n",
            "WARNING:tensorflow:From /usr/local/lib/python3.6/dist-packages/tensorflow/python/ops/math_ops.py:3066: to_int32 (from tensorflow.python.ops.math_ops) is deprecated and will be removed in a future version.\n",
            "Instructions for updating:\n",
            "Use tf.cast instead.\n",
            "학습 끝!\n",
            "처리중인 폴드 # 1 학습 시작.... 학습 끝!\n",
            "처리중인 폴드 # 2 학습 시작.... 학습 끝!\n",
            "처리중인 폴드 # 3 학습 시작.... 학습 끝!\n"
          ],
          "name": "stdout"
        }
      ]
    },
    {
      "metadata": {
        "id": "2xIvHwS3xCsL",
        "colab_type": "code",
        "colab": {
          "base_uri": "https://localhost:8080/",
          "height": 35
        },
        "outputId": "df361136-3b65-41b6-920d-085a5e9fc1f8"
      },
      "cell_type": "code",
      "source": [
        "np.mean(all_scores)"
      ],
      "execution_count": 9,
      "outputs": [
        {
          "output_type": "execute_result",
          "data": {
            "text/plain": [
              "2.386025152879186"
            ]
          },
          "metadata": {
            "tags": []
          },
          "execution_count": 9
        }
      ]
    },
    {
      "metadata": {
        "id": "6_ayOR_r-eJU",
        "colab_type": "text"
      },
      "cell_type": "markdown",
      "source": [
        "epochs=500 일 때,"
      ]
    },
    {
      "metadata": {
        "id": "6KYv7XtzxCsV",
        "colab_type": "code",
        "colab": {
          "base_uri": "https://localhost:8080/",
          "height": 89
        },
        "outputId": "263ad86b-f53a-44d8-ebbd-38cb6611b8f5"
      },
      "cell_type": "code",
      "source": [
        "import numpy as np\n",
        "\n",
        "# 보통 4,5\n",
        "k=4\n",
        "num_val_samples=len(train_data)//k\n",
        "num_epochs=500\n",
        "all_mae_histories=[]\n",
        "\n",
        "for i in range(k):\n",
        "    \n",
        "    print(\"처리중인 폴드 #\",i,end=' ')\n",
        "    \n",
        "    # validation data\n",
        "    val_data=train_data[i*num_val_samples:(i+1)*num_val_samples]\n",
        "    val_targets=train_targets[i*num_val_samples:(i+1)*num_val_samples]\n",
        "    \n",
        "    # train data\n",
        "    partial_train_data=np.concatenate([train_data[:i*num_val_samples],train_data[(i+1)*num_val_samples:]],axis=0)\n",
        "    partial_train_targets=np.concatenate([train_targets[:i*num_val_samples],train_targets[(i+1)*num_val_samples:]],axis=0)\n",
        "    \n",
        "    print(\"학습 시작....\",end=' ')\n",
        "    # 모델 학습\n",
        "    model=build_model()\n",
        "    # verbose=0 이면 훈련과정 출력되지 않는다\n",
        "    history=model.fit(partial_train_data,partial_train_targets,validation_data=(val_data,val_targets),epochs=num_epochs,batch_size=1,verbose=0)\n",
        "    print(\"학습 끝!\")\n",
        "    \n",
        "    # 모델 평가\n",
        "    mae_history=history.history['val_mean_absolute_error']\n",
        "    all_mae_histories.append(mae_history)"
      ],
      "execution_count": 10,
      "outputs": [
        {
          "output_type": "stream",
          "text": [
            "처리중인 폴드 # 0 학습 시작.... 학습 끝!\n",
            "처리중인 폴드 # 1 학습 시작.... 학습 끝!\n",
            "처리중인 폴드 # 2 학습 시작.... 학습 끝!\n",
            "처리중인 폴드 # 3 학습 시작.... 학습 끝!\n"
          ],
          "name": "stdout"
        }
      ]
    },
    {
      "metadata": {
        "id": "fUoNIRlW-kiY",
        "colab_type": "text"
      },
      "cell_type": "markdown",
      "source": [
        "결과 MAE 그래프로 그리기"
      ]
    },
    {
      "metadata": {
        "id": "83cTG80DxCsf",
        "colab_type": "code",
        "colab": {}
      },
      "cell_type": "code",
      "source": [
        "average_mae_history=[np.mean([x[i] for x in all_mae_histories]) for i in range(num_epochs)]"
      ],
      "execution_count": 0,
      "outputs": []
    },
    {
      "metadata": {
        "id": "pQh3QZy9yPRy",
        "colab_type": "code",
        "colab": {
          "base_uri": "https://localhost:8080/",
          "height": 279
        },
        "outputId": "b5258b06-6a30-4406-824a-c84e7bc80610"
      },
      "cell_type": "code",
      "source": [
        "import matplotlib.pyplot as plt\n",
        "%matplotlib inline\n",
        "\n",
        "plt.plot(range(1,len(average_mae_history)+1),average_mae_history)\n",
        "plt.xlabel('Epoch')\n",
        "plt.ylabel('Validation MAE')\n",
        "\n",
        "plt.show()"
      ],
      "execution_count": 13,
      "outputs": [
        {
          "output_type": "display_data",
          "data": {
            "image/png": "[encoded data removed]",
            "text/plain": [
              "<Figure size 432x288 with 1 Axes>"
            ]
          },
          "metadata": {
            "tags": []
          }
        }
      ]
    },
    {
      "metadata": {
        "id": "CeaogyaD-t3y",
        "colab_type": "text"
      },
      "cell_type": "markdown",
      "source": [
        "그래프 알아보기 쉽게 그리기"
      ]
    },
    {
      "metadata": {
        "id": "F4aPHTyJzAkY",
        "colab_type": "code",
        "colab": {
          "base_uri": "https://localhost:8080/",
          "height": 279
        },
        "outputId": "0e6a5ffa-73ab-4ba5-bab4-652fca2ba16b"
      },
      "cell_type": "code",
      "source": [
        "def smooth_curve(points,factor=0.9):\n",
        "  smoothed_points=[]\n",
        "  \n",
        "  for point in points:\n",
        "    if smoothed_points:\n",
        "      previous=smoothed_points[-1]\n",
        "      smoothed_points.append(previous*factor+point*(1-factor))\n",
        "    else:\n",
        "      smoothed_points.append(point)\n",
        "      \n",
        "  return smoothed_points\n",
        "\n",
        "\n",
        "smooth_mae_history=smooth_curve(average_mae_history[10:])\n",
        "\n",
        "plt.plot(range(1,len(smooth_mae_history)+1),smooth_mae_history)\n",
        "plt.xlabel('Epoch')\n",
        "plt.ylabel('Validation MAE')\n",
        "\n",
        "plt.show()"
      ],
      "execution_count": 15,
      "outputs": [
        {
          "output_type": "display_data",
          "data": {
            "image/png": "[encoded data removed]",
            "text/plain": [
              "<Figure size 432x288 with 1 Axes>"
            ]
          },
          "metadata": {
            "tags": []
          }
        }
      ]
    },
    {
      "metadata": {
        "id": "7cP0h4zx_zpg",
        "colab_type": "text"
      },
      "cell_type": "markdown",
      "source": [
        "위 그래프 보면 MAE 80번쨰 이후로 줄어드는것이 멈춤\n",
        "\n",
        "=> epoch 80으로 모델 다시 빌드"
      ]
    },
    {
      "metadata": {
        "id": "UizQ9dsb_ggO",
        "colab_type": "code",
        "colab": {
          "base_uri": "https://localhost:8080/",
          "height": 35
        },
        "outputId": "8ba9ed17-c6d7-4513-fc2a-008529183b2c"
      },
      "cell_type": "code",
      "source": [
        "model=build_model()\n",
        "model.fit(train_data,train_targets,epochs=80,batch_size=16,verbose=0)\n",
        "_,test_mae=model.evaluate(test_data,test_targets)"
      ],
      "execution_count": 16,
      "outputs": [
        {
          "output_type": "stream",
          "text": [
            "102/102 [==============================] - 0s 1ms/step\n"
          ],
          "name": "stdout"
        }
      ]
    },
    {
      "metadata": {
        "id": "2WBCW8hjAONu",
        "colab_type": "code",
        "colab": {
          "base_uri": "https://localhost:8080/",
          "height": 35
        },
        "outputId": "8a63c8ea-1857-4790-98f7-1eb310506554"
      },
      "cell_type": "code",
      "source": [
        "test_mae"
      ],
      "execution_count": 18,
      "outputs": [
        {
          "output_type": "execute_result",
          "data": {
            "text/plain": [
              "2.6750134393280627"
            ]
          },
          "metadata": {
            "tags": []
          },
          "execution_count": 18
        }
      ]
    },
    {
      "metadata": {
        "id": "HX-DLD92ARNP",
        "colab_type": "code",
        "colab": {}
      },
      "cell_type": "code",
      "source": [
        ""
      ],
      "execution_count": 0,
      "outputs": []
    }
  ]
}