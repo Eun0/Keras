{
 "cells": [
  {
   "cell_type": "markdown",
   "metadata": {},
   "source": [
    "# 데이터 로드하기"
   ]
  },
  {
   "cell_type": "markdown",
   "metadata": {},
   "source": [
    "보스턴 주택 가격 데이터셋을 사용\n",
    "\n",
    "train data : 404개\n",
    "\n",
    "test data : 102개\n",
    "\n",
    "feature : 13 개\n",
    "\n",
    "\\* feature마다 scale이 다름 \\*"
   ]
  },
  {
   "cell_type": "code",
   "execution_count": null,
   "metadata": {},
   "outputs": [],
   "source": [
    "from keras.datasets import boston_housing\n",
    "\n",
    "(train_data,train_targets),(test_data,test_targets)=boston_housing.load_data()"
   ]
  },
  {
   "cell_type": "code",
   "execution_count": null,
   "metadata": {},
   "outputs": [],
   "source": [
    "print(\"train data shape:\",train_data.shape)\n",
    "print(\"train targets shape\",train_targets.shape)"
   ]
  },
  {
   "cell_type": "code",
   "execution_count": null,
   "metadata": {},
   "outputs": [],
   "source": [
    "train_data[0]"
   ]
  },
  {
   "cell_type": "code",
   "execution_count": null,
   "metadata": {},
   "outputs": [],
   "source": [
    "train_targets"
   ]
  },
  {
   "cell_type": "markdown",
   "metadata": {},
   "source": [
    "# 데이터 전처리하기"
   ]
  },
  {
   "cell_type": "markdown",
   "metadata": {},
   "source": [
    "## Scale 맞추기\n",
    "feature별로 scale 다름 => __feature별로 정규화(normalization)__\n",
    "\n",
    "- 정규화 공식 : (val-평균)/표준편차"
   ]
  },
  {
   "cell_type": "code",
   "execution_count": null,
   "metadata": {},
   "outputs": [],
   "source": [
    "# 행 기준\n",
    "mean=train_data.mean(axis=0)\n",
    "std=train_data.std(axis=0)\n",
    "\n",
    "print(\"feature별 평균 벡터 길이:\",len(mean))\n",
    "print(\"feature별 표준편차 벡터 길이:\",len(std))\n",
    "\n",
    "# 한번에 하는 것보다 이게 빠른가?\n",
    "train_data-=mean\n",
    "train_data/=std"
   ]
  },
  {
   "cell_type": "markdown",
   "metadata": {},
   "source": [
    "## test data scale 맞추기\n",
    "\n",
    "train data의 평균과 표준 편차를 이용해야한다\n",
    "\n",
    "절대 test data의 정보를 이용하면 안된다!"
   ]
  },
  {
   "cell_type": "code",
   "execution_count": null,
   "metadata": {},
   "outputs": [],
   "source": [
    "test_data-=mean\n",
    "test_data/=std"
   ]
  },
  {
   "cell_type": "markdown",
   "metadata": {},
   "source": [
    "# 모델 구성"
   ]
  },
  {
   "cell_type": "markdown",
   "metadata": {},
   "source": [
    "## 함수 build_model() 정의 :\n",
    "\n",
    "동일한 모델을 여러번 생성할 것이므로 함수로 정의한다"
   ]
  },
  {
   "cell_type": "code",
   "execution_count": null,
   "metadata": {},
   "outputs": [],
   "source": [
    "from keras import models\n",
    "from keras import layers\n",
    "\n",
    "def build_model():\n",
    "    \n",
    "    model=models.Sequential()\n",
    "    \n",
    "    model.add(layers.Dense(64,activation='relu',input_shape=(train_data.shape[1],)))\n",
    "    model.add(layers.Dense(64,activation='relu'))\n",
    "    model.add(layers.Dense(1))\n",
    "    \n",
    "    model.compile(optimizer='rmsprop',loss='mse',metrics=['mae'])\n",
    "    \n",
    "    return model"
   ]
  },
  {
   "cell_type": "markdown",
   "metadata": {},
   "source": [
    "# 훈련,검증 하기"
   ]
  },
  {
   "cell_type": "markdown",
   "metadata": {},
   "source": [
    "## k-fold cross-validation "
   ]
  },
  {
   "cell_type": "markdown",
   "metadata": {},
   "source": [
    "train data 많지 않으므로 k-fold cross-validation 이용\n",
    "\n",
    "데이터를 k개로 분할하고\n",
    "\n",
    "k개의 모델을 각각 만들어 k-1개의 분할에서 훈련하고 나머지 분할에서 평가하는 방법\n",
    "\n",
    "모델의 검증 점수는 k개의 검증 점수의 평균이다"
   ]
  },
  {
   "cell_type": "code",
   "execution_count": null,
   "metadata": {},
   "outputs": [],
   "source": [
    "import numpy as np\n",
    "\n",
    "# 보통 4,5\n",
    "k=4\n",
    "num_val_samples=len(train_data)//k\n",
    "num_epochs=100\n",
    "all_scores=[]\n",
    "\n",
    "for i in range(k):\n",
    "    \n",
    "    print(\"처리중인 폴드 #\",i,end=' ')\n",
    "    \n",
    "    # validation data\n",
    "    val_data=train_data[i*num_val_samples:(i+1)*num_val_samples]\n",
    "    val_targets=train_targets[i*num_val_samples:(i+1)*num_val_samples]\n",
    "    \n",
    "    # train data\n",
    "    partial_train_data=np.concatenate([train_data[:i*num_val_samples],train_data[(i+1)*num_val_samples:]],axis=0)\n",
    "    partial_train_targets=np.concatenate([train_targets[:i*num_val_samples],train_targets[(i+1)*num_val_samples:]],axis=0)\n",
    "    \n",
    "    print(\"학습 시작....\",end=' ')\n",
    "    # 모델 학습\n",
    "    model=build_model()\n",
    "    # verbose=0 이면 훈련과정 출력되지 않는다\n",
    "    model.fit(partial_train_data,partial_train_targets,epochs=num_epochs,batch_size=1,verbose=0)\n",
    "    print(\"학습 끝!\")\n",
    "    \n",
    "    # 모델 평가\n",
    "    val_mse,val_mae=model.evaluate(val_data,val_targets,verbose=0)\n",
    "    all_scores.append(val_mae)\n",
    "    "
   ]
  },
  {
   "cell_type": "code",
   "execution_count": null,
   "metadata": {},
   "outputs": [],
   "source": [
    "np.mean(all_scores)"
   ]
  },
  {
   "cell_type": "code",
   "execution_count": null,
   "metadata": {},
   "outputs": [],
   "source": [
    "import numpy as np\n",
    "\n",
    "# 보통 4,5\n",
    "k=4\n",
    "num_val_samples=len(train_data)//k\n",
    "num_epochs=200\n",
    "all_mae_histories=[]\n",
    "\n",
    "for i in range(k):\n",
    "    \n",
    "    print(\"처리중인 폴드 #\",i,end=' ')\n",
    "    \n",
    "    # validation data\n",
    "    val_data=train_data[i*num_val_samples:(i+1)*num_val_samples]\n",
    "    val_targets=train_targets[i*num_val_samples:(i+1)*num_val_samples]\n",
    "    \n",
    "    # train data\n",
    "    partial_train_data=np.concatenate([train_data[:i*num_val_samples],train_data[(i+1)*num_val_samples:]],axis=0)\n",
    "    partial_train_targets=np.concatenate([train_targets[:i*num_val_samples],train_targets[(i+1)*num_val_samples:]],axis=0)\n",
    "    \n",
    "    print(\"학습 시작....\",end=' ')\n",
    "    # 모델 학습\n",
    "    model=build_model()\n",
    "    # verbose=0 이면 훈련과정 출력되지 않는다\n",
    "    history=model.fit(partial_train_data,partial_train_targets,validation_data=(val_data,val_targets),epochs=num_epochs,batch_size=1,verbose=0)\n",
    "    print(\"학습 끝!\")\n",
    "    \n",
    "    # 모델 평가\n",
    "    mae_history=history.history['val_mean_absolute_error']\n",
    "    all_mae_histories.append(mae_history)"
   ]
  },
  {
   "cell_type": "code",
   "execution_count": null,
   "metadata": {},
   "outputs": [],
   "source": []
  }
 ],
 "metadata": {
  "kernelspec": {
   "display_name": "Python 3",
   "language": "python",
   "name": "python3"
  },
  "language_info": {
   "codemirror_mode": {
    "name": "ipython",
    "version": 3
   },
   "file_extension": ".py",
   "mimetype": "text/x-python",
   "name": "python",
   "nbconvert_exporter": "python",
   "pygments_lexer": "ipython3",
   "version": "3.6.7"
  }
 },
 "nbformat": 4,
 "nbformat_minor": 2
}
